{
 "cells": [
  {
   "cell_type": "code",
   "execution_count": 1,
   "id": "25664481",
   "metadata": {},
   "outputs": [],
   "source": [
    "#installing ibm watson\n",
    "#pip install --upgrade ibm-watson"
   ]
  },
  {
   "cell_type": "code",
   "execution_count": 2,
   "id": "5e94808e",
   "metadata": {},
   "outputs": [],
   "source": [
    "#Authentication\n",
    "from ibm_watson import SpeechToTextV1, LanguageTranslatorV3, TextToSpeechV1\n",
    "from ibm_cloud_sdk_core.authenticators import IAMAuthenticator"
   ]
  },
  {
   "cell_type": "code",
   "execution_count": 3,
   "id": "ea41b7a4",
   "metadata": {},
   "outputs": [],
   "source": [
    "lang_trans_key = 'IwBtDrUGRdw1VFTMASDNrEtbFeXZxGkmFnRCR1kYWDt_'\n",
    "lang_trans_url = 'https://api.au-syd.language-translator.watson.cloud.ibm.com/instances/50aee1fd-9614-41c0-a906-fa72f8e564fa'\n",
    "sp_to_txt_key = 'FFZ7dpPZb85zRDLxHA9IyH03kFxlr9w7KiRruK6KE71D'\n",
    "sp_to_txt_url = 'https://api.au-syd.speech-to-text.watson.cloud.ibm.com/instances/4931abd6-b5ce-4e75-a68c-eb1adee71810'"
   ]
  },
  {
   "cell_type": "code",
   "execution_count": 4,
   "id": "d79e71b1",
   "metadata": {},
   "outputs": [],
   "source": [
    "lang_trans_auth = IAMAuthenticator(lang_trans_key)\n",
    "lang_trans = LanguageTranslatorV3(version='2018-05-01', authenticator=lang_trans_auth)\n",
    "lang_trans.set_service_url(lang_trans_url)"
   ]
  },
  {
   "cell_type": "code",
   "execution_count": 5,
   "id": "8caaa2df",
   "metadata": {},
   "outputs": [],
   "source": [
    "sp_to_txt_auth = IAMAuthenticator(sp_to_txt_key)\n",
    "sp_to_txt = SpeechToTextV1(authenticator=sp_to_txt_auth)\n",
    "sp_to_txt.set_service_url(sp_to_txt_url)"
   ]
  },
  {
   "cell_type": "code",
   "execution_count": 6,
   "id": "30f5bb39",
   "metadata": {},
   "outputs": [],
   "source": [
    "#Converting the speech to text from the audio recording in the system\n",
    "with open('gf.mp3', 'rb') as f:\n",
    "    res = sp_to_txt.recognize(audio=f, content_type='audio/mp3', model='en-AU_NarrowbandModel').get_result()"
   ]
  },
  {
   "cell_type": "code",
   "execution_count": 7,
   "id": "414ce15d",
   "metadata": {},
   "outputs": [
    {
     "data": {
      "text/plain": [
       "{'result_index': 0,\n",
       " 'results': [{'final': True,\n",
       "   'alternatives': [{'transcript': \"what's your girlfriend's name \",\n",
       "     'confidence': 1.0}]}]}"
      ]
     },
     "execution_count": 7,
     "metadata": {},
     "output_type": "execute_result"
    }
   ],
   "source": [
    "res"
   ]
  },
  {
   "cell_type": "code",
   "execution_count": 8,
   "id": "84913c7c",
   "metadata": {},
   "outputs": [
    {
     "data": {
      "text/plain": [
       "{'final': True,\n",
       " 'alternatives': [{'transcript': \"what's your girlfriend's name \",\n",
       "   'confidence': 1.0}]}"
      ]
     },
     "execution_count": 8,
     "metadata": {},
     "output_type": "execute_result"
    }
   ],
   "source": [
    "res['results'][0]"
   ]
  },
  {
   "cell_type": "code",
   "execution_count": 9,
   "id": "cb00cd07",
   "metadata": {},
   "outputs": [
    {
     "data": {
      "text/plain": [
       "{'transcript': \"what's your girlfriend's name \", 'confidence': 1.0}"
      ]
     },
     "execution_count": 9,
     "metadata": {},
     "output_type": "execute_result"
    }
   ],
   "source": [
    "res['results'][0]['alternatives'][0]"
   ]
  },
  {
   "cell_type": "code",
   "execution_count": 10,
   "id": "a0582b8d",
   "metadata": {},
   "outputs": [
    {
     "data": {
      "text/plain": [
       "\"what's your girlfriend's name \""
      ]
     },
     "execution_count": 10,
     "metadata": {},
     "output_type": "execute_result"
    }
   ],
   "source": [
    "res['results'][0]['alternatives'][0]['transcript']"
   ]
  },
  {
   "cell_type": "code",
   "execution_count": 11,
   "id": "4e85d51c",
   "metadata": {},
   "outputs": [
    {
     "data": {
      "text/plain": [
       "\"what's your girlfriend's name \""
      ]
     },
     "execution_count": 11,
     "metadata": {},
     "output_type": "execute_result"
    }
   ],
   "source": [
    "voicetext = res['results'][0]['alternatives'][0]['transcript']\n",
    "voicetext"
   ]
  },
  {
   "cell_type": "code",
   "execution_count": 12,
   "id": "79b46946",
   "metadata": {},
   "outputs": [],
   "source": [
    "#Translation to other languages\n",
    "tamil = 'en-ta'\n",
    "hindi = 'en-hi'\n",
    "malayalam = 'en-ml'"
   ]
  },
  {
   "cell_type": "code",
   "execution_count": 13,
   "id": "25e2f8a2",
   "metadata": {},
   "outputs": [],
   "source": [
    "translation_mal = lang_trans.translate(text=voicetext, model_id=malayalam).get_result()"
   ]
  },
  {
   "cell_type": "code",
   "execution_count": 14,
   "id": "cc767643",
   "metadata": {},
   "outputs": [
    {
     "data": {
      "text/plain": [
       "{'translations': [{'translation': 'നിന്റെ കാമുകിയുടെ പേരെന്താ? '}],\n",
       " 'word_count': 7,\n",
       " 'character_count': 30}"
      ]
     },
     "execution_count": 14,
     "metadata": {},
     "output_type": "execute_result"
    }
   ],
   "source": [
    "translation_mal"
   ]
  },
  {
   "cell_type": "code",
   "execution_count": 15,
   "id": "0d964202",
   "metadata": {},
   "outputs": [
    {
     "data": {
      "text/plain": [
       "{'translation': 'നിന്റെ കാമുകിയുടെ പേരെന്താ? '}"
      ]
     },
     "execution_count": 15,
     "metadata": {},
     "output_type": "execute_result"
    }
   ],
   "source": [
    "translation_mal['translations'][0]"
   ]
  },
  {
   "cell_type": "code",
   "execution_count": 16,
   "id": "6994e542",
   "metadata": {},
   "outputs": [
    {
     "data": {
      "text/plain": [
       "'നിന്റെ കാമുകിയുടെ പേരെന്താ? '"
      ]
     },
     "execution_count": 16,
     "metadata": {},
     "output_type": "execute_result"
    }
   ],
   "source": [
    "translation_mal['translations'][0]['translation']"
   ]
  },
  {
   "cell_type": "code",
   "execution_count": 17,
   "id": "8c54082f",
   "metadata": {},
   "outputs": [
    {
     "data": {
      "text/plain": [
       "'നിന്റെ കാമുകിയുടെ പേരെന്താ? '"
      ]
     },
     "execution_count": 17,
     "metadata": {},
     "output_type": "execute_result"
    }
   ],
   "source": [
    "translation_mal = lang_trans.translate(text=voicetext, model_id=malayalam).get_result()\n",
    "translated_text_mal = translation_mal['translations'][0]['translation']\n",
    "translated_text_mal"
   ]
  },
  {
   "cell_type": "code",
   "execution_count": 18,
   "id": "d3d95a6c",
   "metadata": {},
   "outputs": [],
   "source": [
    "translation_tamil = lang_trans.translate(text=voicetext, model_id=tamil).get_result()"
   ]
  },
  {
   "cell_type": "code",
   "execution_count": 19,
   "id": "a8501fbb",
   "metadata": {},
   "outputs": [
    {
     "data": {
      "text/plain": [
       "{'translations': [{'translation': 'உங்கள் காதலி பெயர் என்ன '}],\n",
       " 'word_count': 7,\n",
       " 'character_count': 30}"
      ]
     },
     "execution_count": 19,
     "metadata": {},
     "output_type": "execute_result"
    }
   ],
   "source": [
    "translation_tamil"
   ]
  },
  {
   "cell_type": "code",
   "execution_count": 20,
   "id": "2b7bd228",
   "metadata": {},
   "outputs": [
    {
     "data": {
      "text/plain": [
       "[{'translation': 'உங்கள் காதலி பெயர் என்ன '}]"
      ]
     },
     "execution_count": 20,
     "metadata": {},
     "output_type": "execute_result"
    }
   ],
   "source": [
    "translation_tamil['translations']"
   ]
  },
  {
   "cell_type": "code",
   "execution_count": 21,
   "id": "7f9ad925",
   "metadata": {},
   "outputs": [
    {
     "data": {
      "text/plain": [
       "'உங்கள் காதலி பெயர் என்ன '"
      ]
     },
     "execution_count": 21,
     "metadata": {},
     "output_type": "execute_result"
    }
   ],
   "source": [
    "translation_tamil['translations'][0]['translation']"
   ]
  },
  {
   "cell_type": "code",
   "execution_count": 22,
   "id": "c03bcd47",
   "metadata": {},
   "outputs": [
    {
     "data": {
      "text/plain": [
       "'உங்கள் காதலி பெயர் என்ன '"
      ]
     },
     "execution_count": 22,
     "metadata": {},
     "output_type": "execute_result"
    }
   ],
   "source": [
    "translation_tamil = lang_trans.translate(text=voicetext, model_id=tamil).get_result()\n",
    "translated_text_tamil = translation_tamil['translations'][0]['translation']\n",
    "translated_text_tamil"
   ]
  },
  {
   "cell_type": "code",
   "execution_count": 23,
   "id": "b21fda9d",
   "metadata": {},
   "outputs": [],
   "source": [
    "translation_hindi = lang_trans.translate(text=voicetext, model_id=hindi).get_result()"
   ]
  },
  {
   "cell_type": "code",
   "execution_count": 24,
   "id": "c4667e33",
   "metadata": {},
   "outputs": [
    {
     "data": {
      "text/plain": [
       "{'translations': [{'translation': 'आपकी प्रेमिका का नाम क्या है '}],\n",
       " 'word_count': 6,\n",
       " 'character_count': 30}"
      ]
     },
     "execution_count": 24,
     "metadata": {},
     "output_type": "execute_result"
    }
   ],
   "source": [
    "translation_hindi"
   ]
  },
  {
   "cell_type": "code",
   "execution_count": 25,
   "id": "660c730c",
   "metadata": {},
   "outputs": [
    {
     "data": {
      "text/plain": [
       "{'translation': 'आपकी प्रेमिका का नाम क्या है '}"
      ]
     },
     "execution_count": 25,
     "metadata": {},
     "output_type": "execute_result"
    }
   ],
   "source": [
    "translation_hindi['translations'][0]"
   ]
  },
  {
   "cell_type": "code",
   "execution_count": 26,
   "id": "c821c303",
   "metadata": {},
   "outputs": [
    {
     "data": {
      "text/plain": [
       "'आपकी प्रेमिका का नाम क्या है '"
      ]
     },
     "execution_count": 26,
     "metadata": {},
     "output_type": "execute_result"
    }
   ],
   "source": [
    "translation_hindi['translations'][0]['translation']"
   ]
  },
  {
   "cell_type": "code",
   "execution_count": 27,
   "id": "671d0a2d",
   "metadata": {},
   "outputs": [
    {
     "data": {
      "text/plain": [
       "'आपकी प्रेमिका का नाम क्या है '"
      ]
     },
     "execution_count": 27,
     "metadata": {},
     "output_type": "execute_result"
    }
   ],
   "source": [
    "translation_hindi = lang_trans.translate(text=voicetext, model_id=hindi).get_result()\n",
    "translated_text_hindi = translation_hindi['translations'][0]['translation']\n",
    "translated_text_hindi"
   ]
  },
  {
   "cell_type": "code",
   "execution_count": 28,
   "id": "b3c77f60",
   "metadata": {},
   "outputs": [],
   "source": [
    "#Output\n",
    "with open('result_malayalam.txt', 'w') as f:\n",
    "    f.write(translated_text_mal)\n",
    "with open('result_tamil.txt', 'w') as f:\n",
    "    f.write(translated_text_tamil)\n",
    "with open('result_hindi.txt', 'w') as f:\n",
    "    f.write(translated_text_hindi)"
   ]
  },
  {
   "cell_type": "code",
   "execution_count": 29,
   "id": "a91dd255",
   "metadata": {},
   "outputs": [],
   "source": [
    "#Trying to make the translated text to speech\n",
    "txt_to_sp_key = '3oq87YmLyKFJ6kJtSpW28OKMXdUy5ze07BNEZM4Pdbwr'\n",
    "txt_to_sp_url = 'https://api.au-syd.text-to-speech.watson.cloud.ibm.com/instances/c275daae-9bab-4a00-8c9d-4ddabcb83a4c'"
   ]
  },
  {
   "cell_type": "code",
   "execution_count": 30,
   "id": "84c77fe8",
   "metadata": {},
   "outputs": [],
   "source": [
    "txt_to_sp_auth = IAMAuthenticator(txt_to_sp_key)\n",
    "txt_to_sp = TextToSpeechV1(authenticator=txt_to_sp_auth)\n",
    "txt_to_sp.set_service_url(txt_to_sp_url)"
   ]
  },
  {
   "cell_type": "code",
   "execution_count": 31,
   "id": "3043aa53",
   "metadata": {},
   "outputs": [],
   "source": [
    "#Converting the text to speech\n",
    "with open('./result_tamil.mp3', 'wb') as audio_file:\n",
    "    res_1 = txt_to_sp.synthesize(translated_text_tamil, accept = 'audio/mp3', voice = 'en-US_OliviaV3Voice').get_result()\n",
    "    audio_file.write(res_1.content)\n",
    "    \n",
    "#Since IBM does not have Indian languages, I could not get a proper result.\n",
    "#But it should work for other languages like French, German, Spanish etc.,\n",
    "\n",
    "\n",
    "\n",
    "#German:\n",
    "german = 'en-de'\n",
    "translation_ger = lang_trans.translate(text=voicetext, model_id=german).get_result()\n",
    "translated_text_ger = translation_ger['translations'][0]['translation']\n",
    "\n",
    "with open('./result_german.mp3', 'wb') as audio_file:\n",
    "    res_1 = txt_to_sp.synthesize(translated_text_ger, accept = 'audio/mp3', voice = 'de-DE_BirgitV3Voice').get_result()\n",
    "    audio_file.write(res_1.content)\n"
   ]
  },
  {
   "cell_type": "code",
   "execution_count": 32,
   "id": "8b0daba6",
   "metadata": {},
   "outputs": [],
   "source": [
    "#IBM doesnt have Indian languages and so trying google\n",
    "#!pip install SpeechRecognition\n",
    "#import speech_recognition as sr\n",
    "#filename = 'sound_wav.wav'\n",
    "#r = sr.Recognizer()\n",
    "#with sr.AudioFile(filename) as f:\n",
    " #   audio_date = r.record(f)\n",
    "  #  text = r.recognize_google(audio_date)\n",
    "   # print(text)\n",
    "\n",
    "#Doesn't work and so still looking into it"
   ]
  },
  {
   "cell_type": "code",
   "execution_count": null,
   "id": "6ecce8ee",
   "metadata": {},
   "outputs": [],
   "source": []
  },
  {
   "cell_type": "code",
   "execution_count": null,
   "id": "165bef0e",
   "metadata": {},
   "outputs": [],
   "source": []
  },
  {
   "cell_type": "code",
   "execution_count": null,
   "id": "1e331bc9",
   "metadata": {},
   "outputs": [],
   "source": []
  }
 ],
 "metadata": {
  "kernelspec": {
   "display_name": "Python 3 (ipykernel)",
   "language": "python",
   "name": "python3"
  },
  "language_info": {
   "codemirror_mode": {
    "name": "ipython",
    "version": 3
   },
   "file_extension": ".py",
   "mimetype": "text/x-python",
   "name": "python",
   "nbconvert_exporter": "python",
   "pygments_lexer": "ipython3",
   "version": "3.9.7"
  }
 },
 "nbformat": 4,
 "nbformat_minor": 5
}
